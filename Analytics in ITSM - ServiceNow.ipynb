{
 "cells": [
  {
   "cell_type": "markdown",
   "metadata": {},
   "source": [
    "# Use Case - Analytics in ITSM "
   ]
  },
  {
   "cell_type": "markdown",
   "metadata": {},
   "source": [
    "## Machine Learning Model to Predict Incident Categories based on the description and integrate model into Servicenow to automate process  to predict new incident categories"
   ]
  },
  {
   "cell_type": "raw",
   "metadata": {},
   "source": [
    "The purpose of this case study is to build an ML model to predict the Incident Category based on the probelm description"
   ]
  },
  {
   "cell_type": "markdown",
   "metadata": {},
   "source": [
    "# 1. Import Libraries and load dataset"
   ]
  },
  {
   "cell_type": "code",
   "execution_count": 929,
   "metadata": {},
   "outputs": [],
   "source": [
    "%matplotlib inline\n",
    "import numpy as np  \n",
    "import pandas as pd  \n",
    "import seaborn as sns\n",
    "sns.set(color_codes=True)\n",
    "import warnings\n",
    "warnings.filterwarnings('ignore')\n",
    "import matplotlib.pyplot as plt\n",
    "from sklearn import preprocessing\n",
    "from sklearn.model_selection import train_test_split"
   ]
  },
  {
   "cell_type": "code",
   "execution_count": 930,
   "metadata": {},
   "outputs": [],
   "source": [
    "# Load the Incident dataset\n",
    "data = pd.read_excel('Incidents.xlsx')"
   ]
  },
  {
   "cell_type": "raw",
   "metadata": {},
   "source": [
    "It is always a good practice to eye-ball raw data to get a feel of the data in terms of number of structure of the file, number of attributes, types of attributes."
   ]
  },
  {
   "cell_type": "code",
   "execution_count": 931,
   "metadata": {},
   "outputs": [
    {
     "data": {
      "text/plain": [
       "(7738, 5)"
      ]
     },
     "execution_count": 931,
     "metadata": {},
     "output_type": "execute_result"
    }
   ],
   "source": [
    "data.shape # Rows and Columns are matching"
   ]
  },
  {
   "cell_type": "raw",
   "metadata": {},
   "source": [
    "Contains 7738 rows with 5 columns. Data is as expected."
   ]
  },
  {
   "cell_type": "markdown",
   "metadata": {},
   "source": [
    "# 2. Data Cleaning and Exploration"
   ]
  },
  {
   "cell_type": "code",
   "execution_count": 932,
   "metadata": {},
   "outputs": [
    {
     "data": {
      "text/plain": [
       "Incident Number      object\n",
       "Short description    object\n",
       "Priority             object\n",
       "State                object\n",
       "Category             object\n",
       "dtype: object"
      ]
     },
     "execution_count": 932,
     "metadata": {},
     "output_type": "execute_result"
    }
   ],
   "source": [
    "data.dtypes"
   ]
  },
  {
   "cell_type": "markdown",
   "metadata": {},
   "source": [
    "#### Plot missing values (if any)"
   ]
  },
  {
   "cell_type": "code",
   "execution_count": 933,
   "metadata": {},
   "outputs": [
    {
     "data": {
      "text/plain": [
       "<matplotlib.axes._subplots.AxesSubplot at 0x23716440048>"
      ]
     },
     "execution_count": 933,
     "metadata": {},
     "output_type": "execute_result"
    },
    {
     "data": {
      "image/png": "[encoded data removed]",
      "text/plain": [
       "<Figure size 1080x288 with 1 Axes>"
      ]
     },
     "metadata": {},
     "output_type": "display_data"
    }
   ],
   "source": [
    "col_null = data.isnull().sum()\n",
    "col_null_frac = col_null / data.shape[0]\n",
    "\n",
    "plt.figure(figsize= (15,4))\n",
    "col_null_frac.plot(kind='bar')"
   ]
  },
  {
   "cell_type": "code",
   "execution_count": 934,
   "metadata": {},
   "outputs": [
    {
     "data": {
      "text/plain": [
       "Category             227\n",
       "State                  0\n",
       "Priority               0\n",
       "Short description      0\n",
       "Incident Number        0\n",
       "dtype: int64"
      ]
     },
     "execution_count": 934,
     "metadata": {},
     "output_type": "execute_result"
    }
   ],
   "source": [
    "data.isnull().sum().sort_values(ascending=False).head()"
   ]
  },
  {
   "cell_type": "code",
   "execution_count": 935,
   "metadata": {},
   "outputs": [
    {
     "data": {
      "text/plain": [
       "(7738, 5)"
      ]
     },
     "execution_count": 935,
     "metadata": {},
     "output_type": "execute_result"
    }
   ],
   "source": [
    "data.shape"
   ]
  },
  {
   "cell_type": "raw",
   "metadata": {},
   "source": [
    "There are 227 incidents having no category. Drop those incidents"
   ]
  },
  {
   "cell_type": "code",
   "execution_count": 936,
   "metadata": {},
   "outputs": [
    {
     "data": {
      "text/plain": [
       "(7511, 5)"
      ]
     },
     "execution_count": 936,
     "metadata": {},
     "output_type": "execute_result"
    }
   ],
   "source": [
    "data = data.replace({'Null':np.nan}).dropna()\n",
    "data.shape"
   ]
  },
  {
   "cell_type": "code",
   "execution_count": 937,
   "metadata": {},
   "outputs": [
    {
     "data": {
      "text/plain": [
       "<matplotlib.axes._subplots.AxesSubplot at 0x237166adf98>"
      ]
     },
     "execution_count": 937,
     "metadata": {},
     "output_type": "execute_result"
    },
    {
     "data": {
      "image/png": "[encoded data removed]",
      "text/plain": [
       "<Figure size 1080x288 with 1 Axes>"
      ]
     },
     "metadata": {},
     "output_type": "display_data"
    }
   ],
   "source": [
    "col_null = data.isnull().sum()\n",
    "col_null_frac = col_null / data.shape[0]\n",
    "\n",
    "plt.figure(figsize= (15,4))\n",
    "col_null_frac.plot(kind='bar')"
   ]
  },
  {
   "cell_type": "raw",
   "metadata": {},
   "source": [
    "No more missing values"
   ]
  },
  {
   "cell_type": "markdown",
   "metadata": {},
   "source": [
    "#### Check for duplicates based on the feature \"cid\" "
   ]
  },
  {
   "cell_type": "code",
   "execution_count": 938,
   "metadata": {},
   "outputs": [
    {
     "name": "stdout",
     "output_type": "stream",
     "text": [
      "False\n"
     ]
    }
   ],
   "source": [
    "print(any(data['Incident Number'].duplicated()))  "
   ]
  },
  {
   "cell_type": "raw",
   "metadata": {},
   "source": [
    "There are no duplicate incidents "
   ]
  },
  {
   "cell_type": "markdown",
   "metadata": {},
   "source": [
    "## Plot incidents raised by priority"
   ]
  },
  {
   "cell_type": "code",
   "execution_count": 939,
   "metadata": {},
   "outputs": [],
   "source": [
    "priority_critical_count   = data['Priority'][data['Priority']==\"Critical (P1)\"].count()\n",
    "priority_important_count  = data['Priority'][data['Priority']==\"Important (P3)\"].count()\n",
    "priority_standard_count   = data['Priority'][data['Priority']==\"Standard (P4)\"].count()\n",
    "priority_urgent_count     = data['Priority'][data['Priority']==\"Urgent (P2)\"].count()\n",
    "total_incidents           = [priority_critical_count,priority_important_count,priority_standard_count,priority_urgent_count]"
   ]
  },
  {
   "cell_type": "code",
   "execution_count": 940,
   "metadata": {},
   "outputs": [
    {
     "data": {
      "image/png": "[encoded data removed]",
      "text/plain": [
       "<Figure size 1440x432 with 1 Axes>"
      ]
     },
     "metadata": {},
     "output_type": "display_data"
    }
   ],
   "source": [
    "Category    = [1,2,3,4]\n",
    "width = 0.5\n",
    "plt.figure(figsize=(20,6))\n",
    "width = 0.2\n",
    "plt.bar(Category, total_incidents,width,color='Red' )\n",
    "\n",
    "plt.xlabel('Incident Categories', fontsize = 30, weight = 'bold')\n",
    "plt.ylabel(\"Incidents\", fontsize = 30, weight = 'bold')\n",
    "plt.title(\"Category distribution of Incidents raised in the month of August \",fontsize=30, weight = 'bold')\n",
    "\n",
    "plt.xticks(fontsize=17,weight = 'bold')\n",
    "plt.yticks(fontsize=17)\n",
    "plt.ylim(0,7600,50)\n",
    "plt.xticks(Category, ['Critical','Important','Standard','Urgent'])\n",
    "plt.grid(False)\n",
    "\n",
    "for i in range(4):\n",
    "    plt.text(x = Category[i]-.05 , y = total_incidents[i],s = total_incidents[i], color = 'Black',size = 19,weight = 'bold')\n",
    "plt.grid(False)"
   ]
  },
  {
   "cell_type": "code",
   "execution_count": null,
   "metadata": {},
   "outputs": [],
   "source": []
  },
  {
   "cell_type": "code",
   "execution_count": 941,
   "metadata": {},
   "outputs": [],
   "source": [
    "Active_count               = data['State'][data['State']==\"Active\"].count()\n",
    "Awating_Evidence_count     = data['State'][data['State']==\"Awaiting Evidence\"].count()\n",
    "Awating_External_count     = data['State'][data['State']==\"Awaiting External\"].count()\n",
    "Awating_Problem_count      = data['State'][data['State']==\"Awaiting Problem\"].count()\n",
    "Awating_Userinfo_count     = data['State'][data['State']==\"Awaiting User Info\"].count()\n",
    "Closed_count               = data['State'][data['State']==\"Closed\"].count()\n",
    "Resolved_count             =  data['State'][data['State']==\"Resolved\"].count()\n",
    "incidents_Status           = [Active_count,Awating_Evidence_count,Awating_External_count,Awating_Problem_count,Awating_Userinfo_count,Closed_count,Resolved_count]"
   ]
  },
  {
   "cell_type": "code",
   "execution_count": 942,
   "metadata": {},
   "outputs": [
    {
     "data": {
      "image/png": "[encoded data removed]",
      "text/plain": [
       "<Figure size 1440x432 with 1 Axes>"
      ]
     },
     "metadata": {},
     "output_type": "display_data"
    }
   ],
   "source": [
    "Category    = [1,2,3,4,5,6,7]\n",
    "width = 0.5\n",
    "plt.figure(figsize=(20,6))\n",
    "width = 0.2\n",
    "plt.bar(Category, incidents_Status,width,color='Red' )\n",
    "\n",
    "plt.xlabel('Incident Status', fontsize = 30, weight = 'bold')\n",
    "plt.ylabel(\"Incidents\", fontsize = 30, weight = 'bold')\n",
    "plt.title(\"Incidents Status raised in the month of August \",fontsize=30, weight = 'bold')\n",
    "\n",
    "plt.xticks(fontsize=17,weight = 'bold')\n",
    "plt.yticks(fontsize=17)\n",
    "plt.ylim(0,8000)\n",
    "plt.xticks(Category, ['Active','Awating Evidence','Awating External','Awating Problem','Awaiting User Info','Closed','Resolved'],rotation=90)\n",
    "plt.grid(False)\n",
    "\n",
    "for i in range(7):\n",
    "    plt.text(x = Category[i]-0.09, y = incidents_Status[i]+4,s = incidents_Status[i]+1, color = 'Black',size = 19,weight = 'bold')\n",
    "plt.grid(False)"
   ]
  },
  {
   "cell_type": "markdown",
   "metadata": {},
   "source": [
    "# Description Classification"
   ]
  },
  {
   "cell_type": "code",
   "execution_count": 943,
   "metadata": {},
   "outputs": [
    {
     "data": {
      "text/html": [
       "<div>\n",
       "<style scoped>\n",
       "    .dataframe tbody tr th:only-of-type {\n",
       "        vertical-align: middle;\n",
       "    }\n",
       "\n",
       "    .dataframe tbody tr th {\n",
       "        vertical-align: top;\n",
       "    }\n",
       "\n",
       "    .dataframe thead th {\n",
       "        text-align: right;\n",
       "    }\n",
       "</style>\n",
       "<table border=\"1\" class=\"dataframe\">\n",
       "  <thead>\n",
       "    <tr style=\"text-align: right;\">\n",
       "      <th></th>\n",
       "      <th>Short description</th>\n",
       "      <th>Priority</th>\n",
       "      <th>State</th>\n",
       "      <th>Category</th>\n",
       "    </tr>\n",
       "  </thead>\n",
       "  <tbody>\n",
       "    <tr>\n",
       "      <th>0</th>\n",
       "      <td>Unable to access team file share</td>\n",
       "      <td>3 - Moderate</td>\n",
       "      <td>New</td>\n",
       "      <td>Inquiry</td>\n",
       "    </tr>\n",
       "    <tr>\n",
       "      <th>1</th>\n",
       "      <td>Performance problems with email</td>\n",
       "      <td>5 - Planning</td>\n",
       "      <td>New</td>\n",
       "      <td>Inquiry</td>\n",
       "    </tr>\n",
       "    <tr>\n",
       "      <th>2</th>\n",
       "      <td>Performance problems with wifi</td>\n",
       "      <td>5 - Planning</td>\n",
       "      <td>New</td>\n",
       "      <td>Inquiry</td>\n",
       "    </tr>\n",
       "    <tr>\n",
       "      <th>3</th>\n",
       "      <td>SAP Sales app is not accessible</td>\n",
       "      <td>1 - Critical</td>\n",
       "      <td>In Progress</td>\n",
       "      <td>Software</td>\n",
       "    </tr>\n",
       "    <tr>\n",
       "      <th>4</th>\n",
       "      <td>SAP Materials Management is slow or there is a...</td>\n",
       "      <td>1 - Critical</td>\n",
       "      <td>On Hold</td>\n",
       "      <td>Software</td>\n",
       "    </tr>\n",
       "  </tbody>\n",
       "</table>\n",
       "</div>"
      ],
      "text/plain": [
       "                                   Short description      Priority  \\\n",
       "0                   Unable to access team file share  3 - Moderate   \n",
       "1                    Performance problems with email  5 - Planning   \n",
       "2                     Performance problems with wifi  5 - Planning   \n",
       "3                    SAP Sales app is not accessible  1 - Critical   \n",
       "4  SAP Materials Management is slow or there is a...  1 - Critical   \n",
       "\n",
       "         State  Category  \n",
       "0          New   Inquiry  \n",
       "1          New   Inquiry  \n",
       "2          New   Inquiry  \n",
       "3  In Progress  Software  \n",
       "4      On Hold  Software  "
      ]
     },
     "execution_count": 943,
     "metadata": {},
     "output_type": "execute_result"
    }
   ],
   "source": [
    "# Load the Incident dataset\n",
    "#del(data)\n",
    "inci_data = pd.read_excel('INCIDENT.xlsx')\n",
    "inci_data.head()"
   ]
  },
  {
   "cell_type": "code",
   "execution_count": 944,
   "metadata": {},
   "outputs": [
    {
     "data": {
      "text/plain": [
       "Inquiry     12\n",
       "Software    10\n",
       "Network      4\n",
       "Hardware     4\n",
       "Database     1\n",
       "Name: Category, dtype: int64"
      ]
     },
     "execution_count": 944,
     "metadata": {},
     "output_type": "execute_result"
    }
   ],
   "source": [
    "inci_data['Category'].value_counts()"
   ]
  },
  {
   "cell_type": "raw",
   "metadata": {},
   "source": [
    "Class imbalance with Category exists. Add few rows to handle class imblance"
   ]
  },
  {
   "cell_type": "code",
   "execution_count": 945,
   "metadata": {},
   "outputs": [],
   "source": [
    "database = inci_data['Category'] == 'Database'\n",
    "add_few = inci_data[database]\n",
    "inci_data = inci_data.append([add_few]*24,ignore_index = True)"
   ]
  },
  {
   "cell_type": "code",
   "execution_count": 946,
   "metadata": {},
   "outputs": [],
   "source": [
    "hardware = inci_data['Category'] == 'Hardware'\n",
    "add_few = inci_data[hardware]\n",
    "inci_data = inci_data.append([add_few]*5,ignore_index = True)"
   ]
  },
  {
   "cell_type": "code",
   "execution_count": 947,
   "metadata": {},
   "outputs": [],
   "source": [
    "inquiry = inci_data['Category'] == 'Inquiry'\n",
    "add_few = inci_data[inquiry]\n",
    "inci_data = inci_data.append([add_few]*1,ignore_index = True)"
   ]
  },
  {
   "cell_type": "code",
   "execution_count": 948,
   "metadata": {},
   "outputs": [],
   "source": [
    "software = inci_data['Category'] == 'Software'\n",
    "add_few = inci_data[software]\n",
    "inci_data = inci_data.append([add_few]*2,ignore_index = True)"
   ]
  },
  {
   "cell_type": "code",
   "execution_count": 949,
   "metadata": {},
   "outputs": [],
   "source": [
    "network = inci_data['Category'] == 'Network'\n",
    "add_few = inci_data[network]\n",
    "inci_data = inci_data.append([add_few]*5,ignore_index = True)"
   ]
  },
  {
   "cell_type": "code",
   "execution_count": 950,
   "metadata": {},
   "outputs": [
    {
     "data": {
      "text/plain": [
       "Software    30\n",
       "Database    25\n",
       "Network     24\n",
       "Hardware    24\n",
       "Inquiry     24\n",
       "Name: Category, dtype: int64"
      ]
     },
     "execution_count": 950,
     "metadata": {},
     "output_type": "execute_result"
    }
   ],
   "source": [
    "inci_data['Category'].value_counts()"
   ]
  },
  {
   "cell_type": "code",
   "execution_count": 951,
   "metadata": {},
   "outputs": [
    {
     "data": {
      "text/plain": [
       "(127, 4)"
      ]
     },
     "execution_count": 951,
     "metadata": {},
     "output_type": "execute_result"
    }
   ],
   "source": [
    "inci_data.shape"
   ]
  },
  {
   "cell_type": "markdown",
   "metadata": {},
   "source": [
    "##### Split the data into training and test set in the ratio of 70:25 (Training:Test)"
   ]
  },
  {
   "cell_type": "code",
   "execution_count": 952,
   "metadata": {},
   "outputs": [
    {
     "data": {
      "text/plain": [
       "(32,)"
      ]
     },
     "execution_count": 952,
     "metadata": {},
     "output_type": "execute_result"
    }
   ],
   "source": [
    "data,label = inci_data[inci_data.columns[0]],inci_data[inci_data.columns[3]]\n",
    "train_data, test_data, train_label, test_label = train_test_split(data, label, test_size=0.25, random_state=123)\n",
    "test_data.shape"
   ]
  },
  {
   "cell_type": "code",
   "execution_count": 953,
   "metadata": {},
   "outputs": [],
   "source": [
    "test_data.to_csv(\"test_data.csv\")"
   ]
  },
  {
   "cell_type": "markdown",
   "metadata": {},
   "source": [
    "### Text Classification steps - Convert text document to matrix of token documents"
   ]
  },
  {
   "cell_type": "code",
   "execution_count": 954,
   "metadata": {},
   "outputs": [
    {
     "data": {
      "text/plain": [
       "(95, 121)"
      ]
     },
     "execution_count": 954,
     "metadata": {},
     "output_type": "execute_result"
    }
   ],
   "source": [
    "from sklearn.feature_extraction.text import CountVectorizer\n",
    "count_vect = CountVectorizer()\n",
    "train_data_convert = count_vect.fit_transform(train_data)\n",
    "test_data_convert = count_vect.fit_transform(test_data)\n",
    "train_data_convert.shape"
   ]
  },
  {
   "cell_type": "markdown",
   "metadata": {},
   "source": [
    "### Get the weights of text using TfidfTransformer"
   ]
  },
  {
   "cell_type": "code",
   "execution_count": 955,
   "metadata": {},
   "outputs": [],
   "source": [
    "from sklearn.feature_extraction.text import TfidfTransformer\n",
    "tfidf_Transformer = TfidfTransformer()\n",
    "train_data_tfidf = tfidf_Transformer.fit_transform(train_data_convert)\n",
    "test_data_tfidf = tfidf_Transformer.fit_transform(test_data_convert)"
   ]
  },
  {
   "cell_type": "code",
   "execution_count": 956,
   "metadata": {},
   "outputs": [
    {
     "data": {
      "text/plain": [
       "array([[0.        , 0.        , 0.        , ..., 0.        , 0.        ,\n",
       "        0.        ],\n",
       "       [0.        , 0.        , 0.        , ..., 0.        , 0.        ,\n",
       "        0.        ],\n",
       "       [0.        , 0.        , 0.40534194, ..., 0.        , 0.        ,\n",
       "        0.        ],\n",
       "       ...,\n",
       "       [0.        , 0.        , 0.        , ..., 0.        , 0.        ,\n",
       "        0.        ],\n",
       "       [0.28280174, 0.        , 0.        , ..., 0.        , 0.        ,\n",
       "        0.        ],\n",
       "       [0.28280174, 0.        , 0.        , ..., 0.        , 0.        ,\n",
       "        0.        ]])"
      ]
     },
     "execution_count": 956,
     "metadata": {},
     "output_type": "execute_result"
    }
   ],
   "source": [
    "test_data_tfidf.toarray()"
   ]
  },
  {
   "cell_type": "markdown",
   "metadata": {},
   "source": [
    "# Choose Classifier"
   ]
  },
  {
   "cell_type": "markdown",
   "metadata": {},
   "source": [
    "## MultiNomial Naive bayes "
   ]
  },
  {
   "cell_type": "code",
   "execution_count": 958,
   "metadata": {},
   "outputs": [],
   "source": [
    "from sklearn.pipeline import Pipeline\n",
    "clf = Pipeline([('vect',CountVectorizer()),('tfidf',TfidfTransformer()),('clf',MultinomialNB()),])\n",
    "clf = text_clf.fit(train_data,train_label)"
   ]
  },
  {
   "cell_type": "code",
   "execution_count": 959,
   "metadata": {},
   "outputs": [
    {
     "data": {
      "text/plain": [
       "0.96875"
      ]
     },
     "execution_count": 959,
     "metadata": {},
     "output_type": "execute_result"
    }
   ],
   "source": [
    "Pred = clf.predict(test_data)\n",
    "clf.score(test_data,test_label)"
   ]
  },
  {
   "cell_type": "code",
   "execution_count": 917,
   "metadata": {},
   "outputs": [
    {
     "data": {
      "text/plain": [
       "array(['Software', 'Network', 'Software', 'Inquiry', 'Database',\n",
       "       'Database', 'Network', 'Network', 'Software', 'Database',\n",
       "       'Network', 'Hardware', 'Inquiry', 'Hardware', 'Software',\n",
       "       'Inquiry', 'Software', 'Network', 'Hardware', 'Hardware',\n",
       "       'Software', 'Software', 'Database', 'Database', 'Network',\n",
       "       'Network', 'Software', 'Database', 'Network', 'Inquiry', 'Network',\n",
       "       'Network'], dtype='<U8')"
      ]
     },
     "execution_count": 917,
     "metadata": {},
     "output_type": "execute_result"
    }
   ],
   "source": [
    "Pred"
   ]
  },
  {
   "cell_type": "markdown",
   "metadata": {},
   "source": [
    "### Linear Regression"
   ]
  },
  {
   "cell_type": "code",
   "execution_count": 965,
   "metadata": {},
   "outputs": [],
   "source": [
    "from sklearn.pipeline import Pipeline\n",
    "lr = Pipeline([('vect',CountVectorizer()),('tfidf',TfidfTransformer()),('lr',LogisticRegression()),])\n",
    "lr = lr.fit(train_data,train_label)"
   ]
  },
  {
   "cell_type": "code",
   "execution_count": 967,
   "metadata": {},
   "outputs": [
    {
     "data": {
      "text/plain": [
       "0.96875"
      ]
     },
     "execution_count": 967,
     "metadata": {},
     "output_type": "execute_result"
    }
   ],
   "source": [
    "lrPred = lr.predict(test_data)\n",
    "lr.score(test_data,test_label)\n"
   ]
  },
  {
   "cell_type": "markdown",
   "metadata": {},
   "source": [
    "### Predicted with accuracy of 97%"
   ]
  },
  {
   "cell_type": "markdown",
   "metadata": {},
   "source": [
    "### Both classifiers giving same accuracy. Save the model to make new predictions on the unseen data"
   ]
  },
  {
   "cell_type": "code",
   "execution_count": 1037,
   "metadata": {},
   "outputs": [
    {
     "data": {
      "text/plain": [
       "['PredictIncidentCategories.pkl']"
      ]
     },
     "execution_count": 1037,
     "metadata": {},
     "output_type": "execute_result"
    }
   ],
   "source": [
    "from sklearn.externals import joblib\n",
    "filename = 'PredictIncidentCategories.sav'\n",
    "filename = 'PredictIncidentCategories.pkl'\n",
    "joblib.dump(clf, filename)"
   ]
  },
  {
   "cell_type": "markdown",
   "metadata": {},
   "source": [
    "## Prepare data readiness to make new predictions by retrieving saved model "
   ]
  },
  {
   "cell_type": "code",
   "execution_count": 1028,
   "metadata": {},
   "outputs": [],
   "source": [
    "# Load the New Dataset\n",
    "new_data = pd.read_excel('New_Incident_Dataset.xlsx')"
   ]
  },
  {
   "cell_type": "code",
   "execution_count": 1029,
   "metadata": {},
   "outputs": [
    {
     "data": {
      "text/plain": [
       "(11, 3)"
      ]
     },
     "execution_count": 1029,
     "metadata": {},
     "output_type": "execute_result"
    }
   ],
   "source": [
    "new_data.shape"
   ]
  },
  {
   "cell_type": "code",
   "execution_count": 1030,
   "metadata": {},
   "outputs": [
    {
     "data": {
      "text/html": [
       "<div>\n",
       "<style scoped>\n",
       "    .dataframe tbody tr th:only-of-type {\n",
       "        vertical-align: middle;\n",
       "    }\n",
       "\n",
       "    .dataframe tbody tr th {\n",
       "        vertical-align: top;\n",
       "    }\n",
       "\n",
       "    .dataframe thead th {\n",
       "        text-align: right;\n",
       "    }\n",
       "</style>\n",
       "<table border=\"1\" class=\"dataframe\">\n",
       "  <thead>\n",
       "    <tr style=\"text-align: right;\">\n",
       "      <th></th>\n",
       "      <th>Short description</th>\n",
       "      <th>Priority</th>\n",
       "      <th>State</th>\n",
       "    </tr>\n",
       "  </thead>\n",
       "  <tbody>\n",
       "    <tr>\n",
       "      <th>0</th>\n",
       "      <td>problem in Sales Tools performance</td>\n",
       "      <td>4 - Low</td>\n",
       "      <td>On Hold</td>\n",
       "    </tr>\n",
       "    <tr>\n",
       "      <th>1</th>\n",
       "      <td>email not working</td>\n",
       "      <td>3 - Moderate</td>\n",
       "      <td>In Progress</td>\n",
       "    </tr>\n",
       "    <tr>\n",
       "      <th>2</th>\n",
       "      <td>Can we configure UI?</td>\n",
       "      <td>1 - Critical</td>\n",
       "      <td>In Progress</td>\n",
       "    </tr>\n",
       "    <tr>\n",
       "      <th>3</th>\n",
       "      <td>I can't get my weather report</td>\n",
       "      <td>5 - Planning</td>\n",
       "      <td>In Progress</td>\n",
       "    </tr>\n",
       "    <tr>\n",
       "      <th>4</th>\n",
       "      <td>Remove hard disk from my laptop</td>\n",
       "      <td>2 - High</td>\n",
       "      <td>In Progress</td>\n",
       "    </tr>\n",
       "    <tr>\n",
       "      <th>5</th>\n",
       "      <td>Need more memory to my pc</td>\n",
       "      <td>1 - Critical</td>\n",
       "      <td>In Progress</td>\n",
       "    </tr>\n",
       "    <tr>\n",
       "      <th>6</th>\n",
       "      <td>Server not working</td>\n",
       "      <td>1 - Critical</td>\n",
       "      <td>In Progress</td>\n",
       "    </tr>\n",
       "    <tr>\n",
       "      <th>7</th>\n",
       "      <td>Wireless access is down</td>\n",
       "      <td>1 - Critical</td>\n",
       "      <td>In Progress</td>\n",
       "    </tr>\n",
       "    <tr>\n",
       "      <th>8</th>\n",
       "      <td>Network file shares access issue</td>\n",
       "      <td>1 - Critical</td>\n",
       "      <td>On Hold</td>\n",
       "    </tr>\n",
       "    <tr>\n",
       "      <th>9</th>\n",
       "      <td>Laptop not working</td>\n",
       "      <td>1 - Critical</td>\n",
       "      <td>On Hold</td>\n",
       "    </tr>\n",
       "    <tr>\n",
       "      <th>10</th>\n",
       "      <td>Network Issue</td>\n",
       "      <td>1 - Critical</td>\n",
       "      <td>On Hold</td>\n",
       "    </tr>\n",
       "  </tbody>\n",
       "</table>\n",
       "</div>"
      ],
      "text/plain": [
       "                     Short description      Priority        State\n",
       "0   problem in Sales Tools performance       4 - Low      On Hold\n",
       "1                    email not working  3 - Moderate  In Progress\n",
       "2                 Can we configure UI?  1 - Critical  In Progress\n",
       "3        I can't get my weather report  5 - Planning  In Progress\n",
       "4      Remove hard disk from my laptop      2 - High  In Progress\n",
       "5            Need more memory to my pc  1 - Critical  In Progress\n",
       "6                   Server not working  1 - Critical  In Progress\n",
       "7              Wireless access is down  1 - Critical  In Progress\n",
       "8     Network file shares access issue  1 - Critical      On Hold\n",
       "9                   Laptop not working  1 - Critical      On Hold\n",
       "10                       Network Issue  1 - Critical      On Hold"
      ]
     },
     "execution_count": 1030,
     "metadata": {},
     "output_type": "execute_result"
    }
   ],
   "source": [
    "new_data.head(11)"
   ]
  },
  {
   "cell_type": "markdown",
   "metadata": {},
   "source": [
    "## Data readiness to make new predictions"
   ]
  },
  {
   "cell_type": "code",
   "execution_count": 1031,
   "metadata": {},
   "outputs": [],
   "source": [
    "data = new_data[new_data.columns[0]]"
   ]
  },
  {
   "cell_type": "code",
   "execution_count": 1032,
   "metadata": {},
   "outputs": [
    {
     "data": {
      "text/plain": [
       "(11, 35)"
      ]
     },
     "execution_count": 1032,
     "metadata": {},
     "output_type": "execute_result"
    }
   ],
   "source": [
    "count_vect = CountVectorizer()\n",
    "new_data_convert = count_vect.fit_transform(data)\n",
    "new_data_convert.shape"
   ]
  },
  {
   "cell_type": "code",
   "execution_count": 1033,
   "metadata": {},
   "outputs": [],
   "source": [
    "tfidf_Transformer = TfidfTransformer()\n",
    "new_data_tfidf    = tfidf_Transformer.fit_transform(new_data_convert)\n",
    "new_data_tfidf    = tfidf_Transformer.fit_transform(new_data_convert)"
   ]
  },
  {
   "cell_type": "markdown",
   "metadata": {},
   "source": [
    "## End of Data readiness to make new predictions"
   ]
  },
  {
   "cell_type": "markdown",
   "metadata": {},
   "source": [
    "# Load the model from the drive"
   ]
  },
  {
   "cell_type": "code",
   "execution_count": 1034,
   "metadata": {},
   "outputs": [],
   "source": [
    "filename = 'PredictIncidentCategories.sav'\n",
    "loaded_model = joblib.load(filename)"
   ]
  },
  {
   "cell_type": "code",
   "execution_count": 1035,
   "metadata": {},
   "outputs": [
    {
     "data": {
      "text/html": [
       "<div>\n",
       "<style scoped>\n",
       "    .dataframe tbody tr th:only-of-type {\n",
       "        vertical-align: middle;\n",
       "    }\n",
       "\n",
       "    .dataframe tbody tr th {\n",
       "        vertical-align: top;\n",
       "    }\n",
       "\n",
       "    .dataframe thead th {\n",
       "        text-align: right;\n",
       "    }\n",
       "</style>\n",
       "<table border=\"1\" class=\"dataframe\">\n",
       "  <thead>\n",
       "    <tr style=\"text-align: right;\">\n",
       "      <th></th>\n",
       "      <th>Short Description</th>\n",
       "      <th>Predicted Category</th>\n",
       "      <th>Priority</th>\n",
       "      <th>State</th>\n",
       "    </tr>\n",
       "  </thead>\n",
       "  <tbody>\n",
       "    <tr>\n",
       "      <th>0</th>\n",
       "      <td>problem in Sales Tools performance</td>\n",
       "      <td>Software</td>\n",
       "      <td>4 - Low</td>\n",
       "      <td>On Hold</td>\n",
       "    </tr>\n",
       "    <tr>\n",
       "      <th>1</th>\n",
       "      <td>email not working</td>\n",
       "      <td>Inquiry</td>\n",
       "      <td>3 - Moderate</td>\n",
       "      <td>In Progress</td>\n",
       "    </tr>\n",
       "    <tr>\n",
       "      <th>2</th>\n",
       "      <td>Can we configure UI?</td>\n",
       "      <td>Inquiry</td>\n",
       "      <td>1 - Critical</td>\n",
       "      <td>In Progress</td>\n",
       "    </tr>\n",
       "    <tr>\n",
       "      <th>3</th>\n",
       "      <td>I can't get my weather report</td>\n",
       "      <td>Inquiry</td>\n",
       "      <td>5 - Planning</td>\n",
       "      <td>In Progress</td>\n",
       "    </tr>\n",
       "    <tr>\n",
       "      <th>4</th>\n",
       "      <td>Remove hard disk from my laptop</td>\n",
       "      <td>Software</td>\n",
       "      <td>2 - High</td>\n",
       "      <td>In Progress</td>\n",
       "    </tr>\n",
       "    <tr>\n",
       "      <th>5</th>\n",
       "      <td>Need more memory to my pc</td>\n",
       "      <td>Hardware</td>\n",
       "      <td>1 - Critical</td>\n",
       "      <td>In Progress</td>\n",
       "    </tr>\n",
       "    <tr>\n",
       "      <th>6</th>\n",
       "      <td>Server not working</td>\n",
       "      <td>Hardware</td>\n",
       "      <td>1 - Critical</td>\n",
       "      <td>In Progress</td>\n",
       "    </tr>\n",
       "    <tr>\n",
       "      <th>7</th>\n",
       "      <td>Wireless access is down</td>\n",
       "      <td>Network</td>\n",
       "      <td>1 - Critical</td>\n",
       "      <td>In Progress</td>\n",
       "    </tr>\n",
       "    <tr>\n",
       "      <th>8</th>\n",
       "      <td>Network file shares access issue</td>\n",
       "      <td>Network</td>\n",
       "      <td>1 - Critical</td>\n",
       "      <td>On Hold</td>\n",
       "    </tr>\n",
       "    <tr>\n",
       "      <th>9</th>\n",
       "      <td>Laptop not working</td>\n",
       "      <td>Hardware</td>\n",
       "      <td>1 - Critical</td>\n",
       "      <td>On Hold</td>\n",
       "    </tr>\n",
       "    <tr>\n",
       "      <th>10</th>\n",
       "      <td>Network Issue</td>\n",
       "      <td>Network</td>\n",
       "      <td>1 - Critical</td>\n",
       "      <td>On Hold</td>\n",
       "    </tr>\n",
       "  </tbody>\n",
       "</table>\n",
       "</div>"
      ],
      "text/plain": [
       "                     Short Description Predicted Category      Priority  \\\n",
       "0   problem in Sales Tools performance           Software       4 - Low   \n",
       "1                    email not working            Inquiry  3 - Moderate   \n",
       "2                 Can we configure UI?            Inquiry  1 - Critical   \n",
       "3        I can't get my weather report            Inquiry  5 - Planning   \n",
       "4      Remove hard disk from my laptop           Software      2 - High   \n",
       "5            Need more memory to my pc           Hardware  1 - Critical   \n",
       "6                   Server not working           Hardware  1 - Critical   \n",
       "7              Wireless access is down            Network  1 - Critical   \n",
       "8     Network file shares access issue            Network  1 - Critical   \n",
       "9                   Laptop not working           Hardware  1 - Critical   \n",
       "10                       Network Issue            Network  1 - Critical   \n",
       "\n",
       "          State  \n",
       "0       On Hold  \n",
       "1   In Progress  \n",
       "2   In Progress  \n",
       "3   In Progress  \n",
       "4   In Progress  \n",
       "5   In Progress  \n",
       "6   In Progress  \n",
       "7   In Progress  \n",
       "8       On Hold  \n",
       "9       On Hold  \n",
       "10      On Hold  "
      ]
     },
     "execution_count": 1035,
     "metadata": {},
     "output_type": "execute_result"
    }
   ],
   "source": [
    "Predicted_Incident_Categories = loaded_model.predict(data)\n",
    "df = pd.DataFrame({'Short Description' : data, 'Predicted Category' : Predicted_Incident_Categories, 'Priority' : new_data['Priority'], 'State' : new_data['State']})\n",
    "df.head(11)"
   ]
  },
  {
   "cell_type": "code",
   "execution_count": 1036,
   "metadata": {},
   "outputs": [],
   "source": [
    "df.to_csv('Predicted_Categories.csv')"
   ]
  },
  {
   "cell_type": "markdown",
   "metadata": {},
   "source": [
    "# End of Program¶"
   ]
  },
  {
   "cell_type": "markdown",
   "metadata": {},
   "source": [
    "## NEXT STEPS"
   ]
  },
  {
   "cell_type": "raw",
   "metadata": {},
   "source": [
    "Upload the model in aws Lambda,temp folder. With the help of REST message in ServiceNow, send the incident description as input to aws to predict the categories and thereafter using json object get the predicted category back to ServiceNow. Creat a workflow which triggers on creation of new incident, sends the description to aws to receive the predicted category. "
   ]
  },
  {
   "cell_type": "markdown",
   "metadata": {},
   "source": [
    "### This is one of possible analytics use-case in ITSM which will help organizations to standardize the process of identfying incident category so that incient can be assigned to the right group for actioning thereby reducing the operational notice and increasing user satisfication\n"
   ]
  }
 ],
 "metadata": {
  "kernelspec": {
   "display_name": "Python 3",
   "language": "python",
   "name": "python3"
  },
  "language_info": {
   "codemirror_mode": {
    "name": "ipython",
    "version": 3
   },
   "file_extension": ".py",
   "mimetype": "text/x-python",
   "name": "python",
   "nbconvert_exporter": "python",
   "pygments_lexer": "ipython3",
   "version": "3.7.3"
  }
 },
 "nbformat": 4,
 "nbformat_minor": 2
}
